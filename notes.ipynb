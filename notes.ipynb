{
 "cells": [
  {
   "cell_type": "markdown",
   "metadata": {},
   "source": [
    "1.1. Creer l'instance (VM) EC2 avec Amazon Linux 2022\n",
    "\n",
    "1.2. Creer une clé d'autentification et la stocker dans le dossier du projet\n",
    "\n",
    "1.3. Se connecter à l'instance par : a. ssh  ou b. directement\n",
    "(ssh : en VS, ubicarse en el archivo del projecto y lanzar la cmd \n",
    "'ssh -i \"stock_market_tracker_llave.pem\" ec2-user@ec2-15-237-139-160.eu-west-3.compute.amazonaws.com'"
   ]
  },
  {
   "cell_type": "markdown",
   "metadata": {},
   "source": [
    "En la instancia :  ATTENTION A LA VERSION DE KAFKA\n",
    "2.1 Télécharger Kafka : \n",
    "'wget https://archive.apache.org/dist/kafka/3.3.1/kafka_2.13-3.3.1.tgz'\n",
    "-----------------------\n",
    "2.2 unzip\n",
    "'tar -xvf kafka_2.12-3.3.1.tgz'\n",
    "-----------------------\n",
    "2.3. Télécharger java\n",
    "java -version\n",
    "sudo yum install java-1.8.0-openjdk\n",
    "java -version\n",
    "ir à 'cd kafka_2.12-3.3.1'\n",
    "-----------------------\n",
    "2.4 démarrer Zookeeper (in kafka_2.12-3.3.1)\n",
    "bin/zookeeper-server-start.sh config/zookeeper.properties"
   ]
  },
  {
   "cell_type": "markdown",
   "metadata": {},
   "source": [
    "Dans une nouvelle terminal de l'instance : \n",
    "4.1 Start Kafka-server:\n",
    "----------------------------------------\n",
    "Duplicate the session & enter in a new console -- (in home)\n",
    "export KAFKA_HEAP_OPTS=\"-Xmx256M -Xms128M\"\n",
    "cd kafka_2.12-3.3.1\n",
    "bin/kafka-server-start.sh config/server.properties\n",
    "\n",
    "----------------------------------------\n",
    "il faut changer l'ip interne dans le fichier kafka_2.12-3.3.1/config/server.properties:\n",
    "\n",
    "It is pointing to private server , change server.properties so that it can run in public IP \n",
    "\n",
    "To do this , you can follow any of the 2 approaches shared belwo --\n",
    "Do a \"sudo nano config/server.properties\" -> active and change ADVERTISED_LISTENERS to the EC2 instance public-ip\n",
    "----------------------------------------\n",
    "re-run 2.4. Zookeeper\n",
    "re-run 4.1 Start Kafka-server\n",
    "----------------------------------------\n",
    "Modifier les regles du groupe de Sécurité : all- trafic + MyIP"
   ]
  },
  {
   "cell_type": "markdown",
   "metadata": {},
   "source": [
    "Dans une nouvelle terminal de l'instance : Creation du topic + producer\n",
    "5.1) 'cd kafka_2.12-3.3.1'\n",
    "---ejem---\n",
    "(bin/kafka-topics.sh --create --topic myname --bootstrap-server {Public IP of your EC2 Instance:9092} --replication-factor 1 --partitions 1)\n",
    "---- \n",
    "bin/kafka-topics.sh --create --topic demo_testing2 --bootstrap-server 15.237.139.160:9092 --replication-factor 1 --partitions 1\n",
    "\n",
    "\n",
    "--------------------------\n",
    "5.2) Start Producer: (in the same console where it was created (5) attention avec le meme nom)\n",
    "---ejem---\n",
    "(bin/kafka-console-producer.sh --topic myname --bootstrap-server {Put the Public IP of your EC2 Instance:9092} )\n",
    "'bin/kafka-console-producer.sh --topic demo_testing2 --bootstrap-server 15.237.139.160:9092'\n"
   ]
  },
  {
   "cell_type": "markdown",
   "metadata": {},
   "source": [
    "Dans une nouvelle terminal de l'instance : consumer\n",
    "6.1) Start Consumer:\n",
    "-------------------------\n",
    "Duplicate the session & enter in a new console --\n",
    "cd kafka_2.12-3.3.1\n",
    "(bin/kafka-console-consumer.sh --topic myname --bootstrap-server {Public IP of your EC2 Instance:9092})\n",
    "bin/kafka-console-consumer.sh --topic demo_testing2 --bootstrap-server 15.237.139.160:9092"
   ]
  },
  {
   "cell_type": "markdown",
   "metadata": {},
   "source": [
    "7.1 creer new jupy notebook : kaf_producer\n",
    "\n",
    "7.2. faire les pips\n",
    "7.3 faire les imports \n",
    "7.4 # creer l'object for the kafka_producer (avec mon Public IPv4 address)\n",
    "7.5 create à dock object -> to start sent data\n",
    "--> 8\n",
    "7.6 put it inside a loop (sleep va après)\n",
    "\n"
   ]
  },
  {
   "cell_type": "markdown",
   "metadata": {},
   "source": [
    "8.1 creer new jupy notebook : kaf_producer\n",
    "\n",
    "7.2. faire les pips\n",
    "7.3 faire les imports (35:15)"
   ]
  }
 ],
 "metadata": {
  "kernelspec": {
   "display_name": "Python 3",
   "language": "python",
   "name": "python3"
  },
  "language_info": {
   "name": "python",
   "version": "3.10.0"
  }
 },
 "nbformat": 4,
 "nbformat_minor": 2
}
